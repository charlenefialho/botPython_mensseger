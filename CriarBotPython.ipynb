{
 "cells": [
  {
   "cell_type": "markdown",
   "id": "a66df6f9",
   "metadata": {},
   "source": [
    "# Criar Bot com Python\n",
    "\n",
    "### Bot no Computador - pyautogui"
   ]
  },
  {
   "cell_type": "code",
   "execution_count": 30,
   "id": "29c87a41",
   "metadata": {},
   "outputs": [],
   "source": [
    "import pyautogui\n",
    "import time \n",
    "\n",
    "pyautogui.PAUSE = 3  #tempo de espera da execução de cada comando\n",
    "\n",
    "#abrir ferramenta/sistema/programa\n",
    "pyautogui.press(\"win\")\n",
    "pyautogui.write(\"login.xlsx\")\n",
    "pyautogui.press(\"backspace\") #macete\n",
    "pyautogui.press(\"enter\")\n",
    "\n",
    "time.sleep(5)\n",
    "\n",
    "#preencher o login\n",
    "pyautogui.click(x=483, y=277)\n",
    "pyautogui.write(\"charlene\")\n",
    "\n",
    "#preencher a senha\n",
    "pyautogui.click(x=387, y=332)\n",
    "pyautogui.write(\"senha\")\n",
    "#clicar em fazer login\n",
    "pyautogui.click(x=463, y=444)"
   ]
  },
  {
   "cell_type": "code",
   "execution_count": null,
   "id": "4ad8dc30",
   "metadata": {},
   "outputs": [],
   "source": []
  },
  {
   "cell_type": "code",
   "execution_count": null,
   "id": "1a3cd487",
   "metadata": {},
   "outputs": [],
   "source": []
  },
  {
   "cell_type": "raw",
   "id": "acb7941e",
   "metadata": {},
   "source": []
  },
  {
   "cell_type": "code",
   "execution_count": null,
   "id": "6654341d",
   "metadata": {},
   "outputs": [],
   "source": []
  },
  {
   "cell_type": "code",
   "execution_count": 28,
   "id": "40f52edf",
   "metadata": {},
   "outputs": [
    {
     "data": {
      "text/plain": [
       "Point(x=1146, y=373)"
      ]
     },
     "execution_count": 28,
     "metadata": {},
     "output_type": "execute_result"
    }
   ],
   "source": [
    "import time #biblioteca para pausar o codigo\n",
    "\n",
    "#pausar o codigo por 3 segundos\n",
    "time.sleep(3)\n",
    "\n",
    "#printar a posição do mouse\n",
    "pyautogui.position()\n",
    "\n",
    "    "
   ]
  },
  {
   "cell_type": "markdown",
   "id": "d54af9d3",
   "metadata": {},
   "source": [
    "### Bot na Internet - Selenium"
   ]
  },
  {
   "cell_type": "code",
   "execution_count": 18,
   "id": "836a35cd",
   "metadata": {},
   "outputs": [
    {
     "name": "stderr",
     "output_type": "stream",
     "text": [
      "C:\\Users\\chazi\\AppData\\Local\\Temp/ipykernel_8872/616561747.py:9: DeprecationWarning: find_element_by_* commands are deprecated. Please use find_element() instead\n",
      "  navegador.find_element_by_xpath('//*[@id=\"i0116\"]').send_keys(\"chazinha12@gmail.com\")\n",
      "C:\\Users\\chazi\\AppData\\Local\\Temp/ipykernel_8872/616561747.py:10: DeprecationWarning: find_element_by_* commands are deprecated. Please use find_element() instead\n",
      "  navegador.find_element_by_xpath('//*[@id=\"idSIButton9\"]').click()\n",
      "C:\\Users\\chazi\\AppData\\Local\\Temp/ipykernel_8872/616561747.py:14: DeprecationWarning: find_element_by_* commands are deprecated. Please use find_element() instead\n",
      "  navegador.find_element_by_xpath('//*[@id=\"i0118\"]').send_keys(\"Pretinha1234\")\n",
      "C:\\Users\\chazi\\AppData\\Local\\Temp/ipykernel_8872/616561747.py:15: DeprecationWarning: find_element_by_* commands are deprecated. Please use find_element() instead\n",
      "  navegador.find_element_by_xpath('//*[@id=\"idSIButton9\"]').click()\n",
      "C:\\Users\\chazi\\AppData\\Local\\Temp/ipykernel_8872/616561747.py:16: DeprecationWarning: find_element_by_* commands are deprecated. Please use find_element() instead\n",
      "  navegador.find_element_by_xpath('//*[@id=\"idBtn_Back\"]').click()\n"
     ]
    }
   ],
   "source": [
    "#chrome -> chromedriver\n",
    "#firefox -> geckodriver\n",
    "from selenium import webdriver\n",
    "import time\n",
    "\n",
    "navegador = webdriver.Chrome()\n",
    "navegador.get('https://login.live.com/')\n",
    "\n",
    "navegador.find_element_by_xpath('//*[@id=\"i0116\"]').send_keys(\"chazinha12@gmail.com\")\n",
    "navegador.find_element_by_xpath('//*[@id=\"idSIButton9\"]').click()\n",
    "\n",
    "time.sleep(1)\n",
    "\n",
    "navegador.find_element_by_xpath('//*[@id=\"i0118\"]').send_keys(\"Pretinha1234\")\n",
    "navegador.find_element_by_xpath('//*[@id=\"idSIButton9\"]').click()\n",
    "navegador.find_element_by_xpath('//*[@id=\"idBtn_Back\"]').click()"
   ]
  },
  {
   "cell_type": "code",
   "execution_count": null,
   "id": "d62d6ca0",
   "metadata": {},
   "outputs": [],
   "source": []
  },
  {
   "cell_type": "code",
   "execution_count": null,
   "id": "57db481c",
   "metadata": {},
   "outputs": [],
   "source": []
  }
 ],
 "metadata": {
  "kernelspec": {
   "display_name": "Python 3 (ipykernel)",
   "language": "python",
   "name": "python3"
  },
  "language_info": {
   "codemirror_mode": {
    "name": "ipython",
    "version": 3
   },
   "file_extension": ".py",
   "mimetype": "text/x-python",
   "name": "python",
   "nbconvert_exporter": "python",
   "pygments_lexer": "ipython3",
   "version": "3.9.7"
  }
 },
 "nbformat": 4,
 "nbformat_minor": 5
}
