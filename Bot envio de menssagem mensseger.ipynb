{
 "cells": [
  {
   "cell_type": "code",
   "execution_count": 8,
   "id": "2ec3b237",
   "metadata": {},
   "outputs": [],
   "source": [
    "import pyautogui\n",
    "import time \n",
    "\n",
    "#entrar no mensseger\n",
    "pyautogui.click(x=322, y=343)\n",
    "time.sleep(3)\n",
    "\n",
    "#pesquisar pessoa\n",
    "pyautogui.click(x=524, y=235)\n",
    "time.sleep(1)\n",
    "pyautogui.write(\"danilo cesar\")\n",
    "time.sleep(0.5)\n",
    "pyautogui.click(x=475, y=330)\n",
    "\n",
    "#clicar na caixa de texto\n",
    "pyautogui.click(x=964, y=839)\n",
    "\n",
    "#escrever texto e enviar\n",
    "for i in range(3):\n",
    "    pyautogui.write(\"teste bot\")\n",
    "    pyautogui.press('enter')\n",
    "    \n",
    "\n",
    "#pesquisar pessoa\n",
    "pyautogui.click(x=485, y=234)\n",
    "pyautogui.write(\"pietro stricagnolo pexoto\")\n",
    "time.sleep(0.5)\n",
    "pyautogui.click(x=475, y=330)\n",
    "\n",
    "#clicar na caixa de texto\n",
    "pyautogui.click(x=964, y=839)\n",
    "#escrever texto e enviar\n",
    "for i in range(4):\n",
    "    pyautogui.write(\"teste bot\")\n",
    "    pyautogui.press('enter')\n",
    "    time.sleep(0.5)\n",
    "\n",
    "\n",
    "\n"
   ]
  },
  {
   "cell_type": "code",
   "execution_count": 6,
   "id": "0ecf0d1a",
   "metadata": {},
   "outputs": [
    {
     "data": {
      "text/plain": [
       "Point(x=485, y=234)"
      ]
     },
     "execution_count": 6,
     "metadata": {},
     "output_type": "execute_result"
    }
   ],
   "source": [
    "import pyautogui\n",
    "import time\n",
    "time.sleep(5)\n",
    "\n",
    "pyautogui.position()"
   ]
  },
  {
   "cell_type": "code",
   "execution_count": null,
   "id": "d3f70a08",
   "metadata": {},
   "outputs": [],
   "source": [
    "\n",
    "\n"
   ]
  }
 ],
 "metadata": {
  "kernelspec": {
   "display_name": "Python 3 (ipykernel)",
   "language": "python",
   "name": "python3"
  },
  "language_info": {
   "codemirror_mode": {
    "name": "ipython",
    "version": 3
   },
   "file_extension": ".py",
   "mimetype": "text/x-python",
   "name": "python",
   "nbconvert_exporter": "python",
   "pygments_lexer": "ipython3",
   "version": "3.9.7"
  }
 },
 "nbformat": 4,
 "nbformat_minor": 5
}
